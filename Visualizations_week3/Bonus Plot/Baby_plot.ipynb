{
 "cells": [
  {
   "cell_type": "code",
   "execution_count": 12,
   "id": "f55dfcdc",
   "metadata": {},
   "outputs": [],
   "source": [
    "#!pip install ipywidgets"
   ]
  },
  {
   "cell_type": "code",
   "execution_count": 15,
   "id": "8b039ab4",
   "metadata": {},
   "outputs": [],
   "source": [
    "from wordcloud import WordCloud\n",
    "import matplotlib.pyplot as plt\n",
    "from PIL import Image\n",
    "import numpy as np\n",
    "from scipy.ndimage import binary_dilation\n",
    "import pandas as pd\n",
    "from wordcloud import WordCloud\n",
    "from ipywidgets import interact, IntSlider"
   ]
  },
  {
   "cell_type": "code",
   "execution_count": 16,
   "id": "0d531992",
   "metadata": {},
   "outputs": [],
   "source": [
    "# Dictionary to store word frequencies\n",
    "word_frequencies = {}\n",
    "\n",
    "# Read the CSV file into a pandas DataFrame\n",
    "csv_file_path = \"dpt2020.csv\"\n",
    "df = pd.read_csv(csv_file_path, delimiter=\";\")\n",
    "\n",
    "# Group the data by 'preusuel' and sum the 'nombre' values\n",
    "grouped = df.groupby('preusuel')['nombre'].sum()\n",
    "\n",
    "# Create the word frequencies dictionary\n",
    "word_frequencies = grouped.to_dict()"
   ]
  },
  {
   "cell_type": "code",
   "execution_count": 17,
   "id": "c8d057a9",
   "metadata": {},
   "outputs": [
    {
     "data": {
      "application/vnd.jupyter.widget-view+json": {
       "model_id": "74cb25ad99a44cd7b6eefe217d27fefa",
       "version_major": 2,
       "version_minor": 0
      },
      "text/plain": [
       "interactive(children=(IntSlider(value=1900, description='year', max=2020, min=1900), Output()), _dom_classes=(…"
      ]
     },
     "metadata": {},
     "output_type": "display_data"
    },
    {
     "data": {
      "text/plain": [
       "<function __main__.update_wordcloud(year)>"
      ]
     },
     "execution_count": 17,
     "metadata": {},
     "output_type": "execute_result"
    }
   ],
   "source": [
    "# Read the CSV file into a pandas DataFrame\n",
    "csv_file_path = \"dpt2020.csv\"\n",
    "df = pd.read_csv(csv_file_path, delimiter=\";\")\n",
    "\n",
    "df['annee'] = pd.to_numeric(df['annee'], errors='coerce')\n",
    "df = df.dropna(subset=['annee'])\n",
    "df['annee'] = df['annee'].astype(int)\n",
    "\n",
    "\n",
    "# Group the data by 'preusuel' and sum the 'nombre' values\n",
    "grouped = df.groupby('preusuel')['nombre'].sum()\n",
    "\n",
    "# Create the word frequencies dictionary\n",
    "word_frequencies = grouped.to_dict()\n",
    "\n",
    "# Load the baby image\n",
    "baby_image_path = \"./baby.jpeg\"\n",
    "baby_image = Image.open(baby_image_path).convert(\"RGBA\")\n",
    "baby_data = np.array(baby_image)\n",
    "\n",
    "# Convert #338855 to RGBA format\n",
    "color = (52, 136, 86, 255)  # R, G, B, Alpha\n",
    "color_rgba = np.array(color, dtype=np.uint8)\n",
    "\n",
    "# Set pixels not equal to #338855 to white (255, 255, 255, 255)\n",
    "baby_data[~np.all(baby_data == color_rgba, axis=-1)] = [255, 255, 255, 255]\n",
    "\n",
    "# Create the mask based on color code\n",
    "mask = np.zeros(baby_data.shape[:2], dtype=np.uint8)\n",
    "mask[(baby_data[..., :3] == [255, 255, 255]).all(axis=-1)] = 255\n",
    "\n",
    "# Invert the mask\n",
    "inverted_mask = np.invert(mask)\n",
    "\n",
    "# Function to update the word cloud based on the selected year\n",
    "def update_wordcloud(year):\n",
    "    # Filter the DataFrame based on the selected year\n",
    "    filtered_df = df[df['annee'] == year]\n",
    "    \n",
    "    # Group the filtered data by 'preusuel' and sum the 'nombre' values\n",
    "    grouped = filtered_df.groupby('preusuel')['nombre'].sum()\n",
    "    \n",
    "    # Create the word frequencies dictionary\n",
    "    word_frequencies = grouped.to_dict()\n",
    "    \n",
    "    # Create the WordCloud object with the modified image and inverted mask\n",
    "    wordcloud = WordCloud(background_color=\"white\", mask=inverted_mask)\n",
    "    \n",
    "    # Generate the word cloud from word frequencies\n",
    "    wordcloud.generate_from_frequencies(word_frequencies)\n",
    "    \n",
    "    # Plot the word cloud with the original baby image as the background\n",
    "    plt.figure(figsize=(8, 8))\n",
    "    plt.imshow(baby_data, interpolation=\"bilinear\")\n",
    "    plt.imshow(wordcloud, interpolation=\"bilinear\", alpha=0.9)\n",
    "    plt.axis(\"off\")\n",
    "    plt.show()\n",
    "\n",
    "# Get the earliest and latest years in the dataset\n",
    "earliest_year = df['annee'].min()\n",
    "latest_year = df['annee'].max()\n",
    "\n",
    "# Create a sliding bar widget for selecting the year\n",
    "year_slider = IntSlider(min=earliest_year, max=latest_year, step=1, value=earliest_year)\n",
    "interact(update_wordcloud, year=year_slider)\n"
   ]
  },
  {
   "cell_type": "code",
   "execution_count": null,
   "id": "122cd98d",
   "metadata": {},
   "outputs": [],
   "source": []
  }
 ],
 "metadata": {
  "kernelspec": {
   "display_name": "altair_venv",
   "language": "python",
   "name": "altair_venv"
  },
  "language_info": {
   "codemirror_mode": {
    "name": "ipython",
    "version": 3
   },
   "file_extension": ".py",
   "mimetype": "text/x-python",
   "name": "python",
   "nbconvert_exporter": "python",
   "pygments_lexer": "ipython3",
   "version": "3.9.7"
  }
 },
 "nbformat": 4,
 "nbformat_minor": 5
}
