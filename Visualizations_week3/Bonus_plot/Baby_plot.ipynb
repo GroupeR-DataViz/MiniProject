{
 "cells": [
  {
   "cell_type": "code",
   "execution_count": 1,
   "id": "8b039ab4",
   "metadata": {},
   "outputs": [],
   "source": [
    "import matplotlib.pyplot as plt\n",
    "from PIL import Image\n",
    "import numpy as np\n",
    "from scipy.ndimage import binary_dilation\n",
    "import pandas as pd\n",
    "from wordcloud import WordCloud\n",
    "from ipywidgets import interact, IntSlider"
   ]
  },
  {
   "cell_type": "code",
   "execution_count": 2,
   "id": "c8d057a9",
   "metadata": {},
   "outputs": [
    {
     "data": {
      "application/vnd.jupyter.widget-view+json": {
       "model_id": "374a4ba62de1489582c03f383a102669",
       "version_major": 2,
       "version_minor": 0
      },
      "text/plain": [
       "interactive(children=(IntSlider(value=1900, description='year', max=2020, min=1900), Output()), _dom_classes=(…"
      ]
     },
     "metadata": {},
     "output_type": "display_data"
    }
   ],
   "source": [
    "# Read the CSV file into a pandas DataFrame\n",
    "csv_file_path = \"dpt2020.csv\"\n",
    "df = pd.read_csv(csv_file_path, delimiter=\";\")\n",
    "\n",
    "# Rename the column 'annais' to 'annee'\n",
    "df = df.rename(columns={'annais': 'annee'})\n",
    "df['annee'] = pd.to_numeric(df['annee'], errors='coerce')\n",
    "df = df.dropna(subset=['annee'])\n",
    "df['annee'] = df['annee'].astype(int)\n",
    "\n",
    "# Remove \"_PRENOMS_RARES\" from values in the 'preusuel' column\n",
    "df['preusuel'] = df['preusuel'].str.replace('_PRENOMS_RARES', '')\n",
    "\n",
    "# Group the data by 'preusuel' and sum the 'nombre' values\n",
    "grouped = df.groupby('preusuel')['nombre'].sum()\n",
    "\n",
    "# Create the word frequencies dictionary\n",
    "word_frequencies = grouped.to_dict()\n",
    "\n",
    "# Load the baby image\n",
    "baby_image_path = \"./baby.jpg\"\n",
    "baby_image = Image.open(baby_image_path).convert(\"RGBA\")\n",
    "baby_data = np.array(baby_image)\n",
    "\n",
    "# Convert #338855 to RGBA format\n",
    "color = (52, 136, 86, 255)  # R, G, B, Alpha\n",
    "color_rgba = np.array(color, dtype=np.uint8)\n",
    "\n",
    "# Set pixels not equal to #338855 to white (255, 255, 255, 255)\n",
    "baby_data[~np.all(baby_data == color_rgba, axis=-1)] = [255, 255, 255, 255]\n",
    "\n",
    "# Create the mask based on color code\n",
    "mask = np.zeros(baby_data.shape[:2], dtype=np.uint8)\n",
    "mask[(baby_data[..., :3] == [255, 255, 255]).all(axis=-1)] = 255\n",
    "\n",
    "# Invert the mask\n",
    "inverted_mask = np.invert(mask)\n",
    "\n",
    "# Function to update the word cloud based on the selected year\n",
    "def update_wordcloud(year):\n",
    "    # Filter the DataFrame based on the selected year\n",
    "    filtered_df = df[df['annee'] == year]\n",
    "    \n",
    "    # Group the filtered data by 'preusuel' and sum the 'nombre' values\n",
    "    grouped = filtered_df.groupby('preusuel')['nombre'].sum()\n",
    "    \n",
    "    # Create the word frequencies dictionary\n",
    "    word_frequencies = grouped.to_dict()\n",
    "    \n",
    "    # Create the WordCloud object with the modified image and inverted mask\n",
    "    wordcloud = WordCloud(background_color=\"white\", mask=inverted_mask)\n",
    "    \n",
    "    # Generate the word cloud from word frequencies\n",
    "    wordcloud.generate_from_frequencies(word_frequencies)\n",
    "    \n",
    "    # Plot the word cloud with the original baby image as the background\n",
    "    plt.figure(figsize=(8, 8))\n",
    "    plt.imshow(baby_data, interpolation=\"bilinear\")\n",
    "    plt.imshow(wordcloud, interpolation=\"bilinear\", alpha=0.9)\n",
    "    plt.axis(\"off\")\n",
    "\n",
    "# Get the earliest and latest years in the dataset\n",
    "earliest_year = df['annee'].min()\n",
    "latest_year = df['annee'].max()\n",
    "\n",
    "# Create a sliding bar widget for selecting the year\n",
    "year_slider = IntSlider(min=earliest_year, max=latest_year, step=1, value=earliest_year)\n",
    "interact(update_wordcloud, year=year_slider)\n",
    "plt.show()"
   ]
  }
 ],
 "metadata": {
  "kernelspec": {
   "display_name": "Python 3 (ipykernel)",
   "language": "python",
   "name": "python3"
  },
  "language_info": {
   "codemirror_mode": {
    "name": "ipython",
    "version": 3
   },
   "file_extension": ".py",
   "mimetype": "text/x-python",
   "name": "python",
   "nbconvert_exporter": "python",
   "pygments_lexer": "ipython3",
   "version": "3.9.2"
  },
  "toc": {
   "base_numbering": 1,
   "nav_menu": {},
   "number_sections": false,
   "sideBar": true,
   "skip_h1_title": false,
   "title_cell": "Table of Contents",
   "title_sidebar": "Contents",
   "toc_cell": false,
   "toc_position": {},
   "toc_section_display": true,
   "toc_window_display": false
  }
 },
 "nbformat": 4,
 "nbformat_minor": 5
}
